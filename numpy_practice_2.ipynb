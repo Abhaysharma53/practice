{
  "nbformat": 4,
  "nbformat_minor": 0,
  "metadata": {
    "colab": {
      "provenance": []
    },
    "kernelspec": {
      "name": "python3",
      "display_name": "Python 3"
    },
    "language_info": {
      "name": "python"
    }
  },
  "cells": [
    {
      "cell_type": "code",
      "source": [
        "import numpy as np"
      ],
      "metadata": {
        "id": "8tw1bVTgLMXp"
      },
      "execution_count": 1,
      "outputs": []
    },
    {
      "cell_type": "markdown",
      "source": [
        "###`Q-1:` Find the nearest element in the array to a given integer.\n",
        "```\n",
        "Ex:-\n",
        "a=23 and array - [10 17 24 31 38 45 52 59].\n",
        "Nearest element is 24\n",
        "```\n",
        "Hint: Read about this function `argmin()`"
      ],
      "metadata": {
        "id": "1uamk9vAix0o"
      }
    },
    {
      "cell_type": "code",
      "source": [
        "# code here\n",
        "a = 30\n",
        "arr = np.array([10, 17, 24, 31, 38, 45, 52, 59])\n",
        "closest_index = np.argmin(np.abs(arr- a))\n",
        "print(\"Nearest element is {}\".format(arr[closest_index]))\n"
      ],
      "metadata": {
        "id": "ddkpbpR6iySZ",
        "colab": {
          "base_uri": "https://localhost:8080/"
        },
        "outputId": "7cc23ea0-8803-41af-dd06-8a469a6323e7"
      },
      "execution_count": 5,
      "outputs": [
        {
          "output_type": "stream",
          "name": "stdout",
          "text": [
            "Nearest element is 31\n"
          ]
        }
      ]
    },
    {
      "cell_type": "markdown",
      "source": [
        "###`Q-2:` Replace multiples of 3 or 5 as 0 in the given array.\n",
        "```\n",
        "arr=[1 2 3 4 5 6 7 9]\n",
        "\n",
        "result-> [1 2 0 4 0 0 7 0]\n",
        "```"
      ],
      "metadata": {
        "id": "Y1QkHyPpizyp"
      }
    },
    {
      "cell_type": "code",
      "source": [
        "# code here\n",
        "a = np.array([1, 2, 3, 4, 5, 6, 7, 9])\n",
        "b = np.where((a % 3 == 0)| (a % 5 == 0), 0, a)\n",
        "b"
      ],
      "metadata": {
        "id": "JjtxMlhWi25l",
        "colab": {
          "base_uri": "https://localhost:8080/"
        },
        "outputId": "13d1c711-76be-4e07-bea7-5df5cd8a30d1"
      },
      "execution_count": 9,
      "outputs": [
        {
          "output_type": "execute_result",
          "data": {
            "text/plain": [
              "array([1, 2, 0, 4, 0, 0, 7, 0])"
            ]
          },
          "metadata": {},
          "execution_count": 9
        }
      ]
    },
    {
      "cell_type": "markdown",
      "source": [
        "###`Q-3:` Use Fancy Indexing.\n",
        "1. Double the array elements at  given indexes\n",
        "```\n",
        "arr = np.arrange(10)\n",
        "indexes = [0,3,4,9]\n",
        "```\n",
        "Result -> `[ 0  1  2  6  8  5  6  7  8 18]`\n",
        "\n",
        "2. Using a given array make a different array as in below example\n",
        "```\n",
        "array = [1,2,3]\n",
        "result array -> [1 1 1 2 2 2 3 3 3]\n",
        "```\n",
        "* Internal-repetion should be as length of the array.\n",
        "\n",
        "Hint:\n",
        "```\n",
        "if a is an array\n",
        "a = [2,4]\n",
        "a[[1,1,0,1]] will result in-> [4 4 2 4]\n",
        "```"
      ],
      "metadata": {
        "id": "Pi_dZSwTi4OI"
      }
    },
    {
      "cell_type": "code",
      "source": [
        "# code here\n",
        "arr = np.arange(10)\n",
        "indexes = [0,3,4,9]\n",
        "arr[indexes] = arr[indexes] * 2\n",
        "arr"
      ],
      "metadata": {
        "id": "SHYuyuovi66N",
        "colab": {
          "base_uri": "https://localhost:8080/"
        },
        "outputId": "3ae59305-242b-492f-ba09-8ce1e1e842a8"
      },
      "execution_count": 11,
      "outputs": [
        {
          "output_type": "execute_result",
          "data": {
            "text/plain": [
              "array([ 0,  1,  2,  6,  8,  5,  6,  7,  8, 18])"
            ]
          },
          "metadata": {},
          "execution_count": 11
        }
      ]
    },
    {
      "cell_type": "code",
      "source": [
        "array = [1,2,3]\n",
        "np.repeat(array,np.shape(array)[0])\n",
        "#np.size(array)"
      ],
      "metadata": {
        "colab": {
          "base_uri": "https://localhost:8080/"
        },
        "id": "lW3UNuSEPswH",
        "outputId": "6f267b22-dd2a-49aa-b0b3-9ac2a0d88f9d"
      },
      "execution_count": 16,
      "outputs": [
        {
          "output_type": "execute_result",
          "data": {
            "text/plain": [
              "array([1, 1, 1, 2, 2, 2, 3, 3, 3])"
            ]
          },
          "metadata": {},
          "execution_count": 16
        }
      ]
    },
    {
      "cell_type": "markdown",
      "source": [
        "###`Q-4:` Your are given an array which is havig some nan value. You job is to fill those nan values with most common element in the array.\n",
        "```\n",
        "arr=np.array([[1,2,np.nan],[4,2,6],[np.nan,np.nan,5]])\n",
        "\n",
        "```"
      ],
      "metadata": {
        "id": "UDehG0tFi89i"
      }
    },
    {
      "cell_type": "code",
      "source": [
        "from scipy import stats\n",
        "arr=np.array([[1,2,np.nan],[4,2,6],[np.nan,np.nan,5]])\n",
        "arr[np.isnan(arr)] = stats.mode(arr)[0]\n",
        "arr\n",
        "# code here"
      ],
      "metadata": {
        "id": "YH13A6w9jEyu",
        "colab": {
          "base_uri": "https://localhost:8080/"
        },
        "outputId": "6b3712a5-6d29-4924-ccc1-52a1d89b196d"
      },
      "execution_count": 20,
      "outputs": [
        {
          "output_type": "execute_result",
          "data": {
            "text/plain": [
              "array([[1., 2., 1.],\n",
              "       [4., 2., 6.],\n",
              "       [2., 5., 5.]])"
            ]
          },
          "metadata": {},
          "execution_count": 20
        }
      ]
    },
    {
      "cell_type": "markdown",
      "source": [
        "### `Q-5:` Write a NumPy program\n",
        "\n",
        "- to find the missing data in a given array. Return a boolean matrix.\n",
        "- also try to fill those missing values with 0. For that, you can use `np.nan_to_num(a)`\n",
        "\n",
        "```python\n",
        "import numpy as np\n",
        "\n",
        "np.array([[3, 2, np.nan, 1],\n",
        "          [10, 12, 10, 9],\n",
        "          [5, np.nan, 1, np.nan]])\n",
        "```"
      ],
      "metadata": {
        "id": "Tk2JnioUjJ_t"
      }
    },
    {
      "cell_type": "code",
      "source": [
        "# code here\n",
        "a = np.array([[3, 2, np.nan, 1],\n",
        "          [10, 12, 10, 9],\n",
        "          [5, np.nan, 1, np.nan]])\n",
        "np.isnan(a)\n",
        "np.nan_to_num(a, copy = False, nan = 0)\n",
        "a"
      ],
      "metadata": {
        "id": "nPEBTQJ_jJZe",
        "colab": {
          "base_uri": "https://localhost:8080/"
        },
        "outputId": "ab09cdce-2929-429b-9130-0b11c26b7a56"
      },
      "execution_count": 23,
      "outputs": [
        {
          "output_type": "execute_result",
          "data": {
            "text/plain": [
              "array([[ 3.,  2.,  0.,  1.],\n",
              "       [10., 12., 10.,  9.],\n",
              "       [ 5.,  0.,  1.,  0.]])"
            ]
          },
          "metadata": {},
          "execution_count": 23
        }
      ]
    },
    {
      "cell_type": "markdown",
      "source": [
        "###`Q-6:` Given two arrays, X and Y, construct the Cauchy matrix C.\n",
        "`Cij =1/(xi - yj)`\n",
        "\n",
        "http://en.wikipedia.org/wiki/Cauchy_matrix\n",
        "```\n",
        "x = numpy.array([1,2,3,4]).reshape((-1, 1)\n",
        "y = numpy.array([5,6,7])\n",
        "```"
      ],
      "metadata": {
        "id": "FFUnZtG7jNBH"
      }
    },
    {
      "cell_type": "code",
      "source": [
        "# code here\n",
        "x = np.array([1,2,3,4]).reshape((-1, 1))\n",
        "y = np.array([5,6,7])\n",
        "cauch_matrix = 1/(x-y)  #numpy broadcasting on rows and column both\n",
        "cauch_matrix\n"
      ],
      "metadata": {
        "id": "pQXHa38TjVEh",
        "colab": {
          "base_uri": "https://localhost:8080/"
        },
        "outputId": "01591887-dd54-4040-fa50-a5f39d2a742e"
      },
      "execution_count": 24,
      "outputs": [
        {
          "output_type": "execute_result",
          "data": {
            "text/plain": [
              "array([[-0.25      , -0.2       , -0.16666667],\n",
              "       [-0.33333333, -0.25      , -0.2       ],\n",
              "       [-0.5       , -0.33333333, -0.25      ],\n",
              "       [-1.        , -0.5       , -0.33333333]])"
            ]
          },
          "metadata": {},
          "execution_count": 24
        }
      ]
    },
    {
      "cell_type": "markdown",
      "source": [
        "###`Q-7:` Plot this below equation.\n",
        "\n",
        "$$\\large y = \\frac{e^x - e^{-x}}{e^x + e^{-x}}$$\n",
        "\n",
        "**Note: This equation is called tanh activation function. In deep learning, many times this function is used. If you find some difference between the sigmoid function and this tanh function, note that to your notebook.**"
      ],
      "metadata": {
        "id": "EbkHZCF1jWNc"
      }
    },
    {
      "cell_type": "code",
      "source": [
        "# code here\n",
        "(np.exp(a) - np.exp(-a))/(np.exp(a) + np.exp(-a))"
      ],
      "metadata": {
        "id": "n6OcN--FjbLC",
        "colab": {
          "base_uri": "https://localhost:8080/"
        },
        "outputId": "105377ea-9e2c-4a72-cf89-db012fe93874"
      },
      "execution_count": 26,
      "outputs": [
        {
          "output_type": "execute_result",
          "data": {
            "text/plain": [
              "array([[0.99505475, 0.96402758, 0.        , 0.76159416],\n",
              "       [1.        , 1.        , 1.        , 0.99999997],\n",
              "       [0.9999092 , 0.        , 0.76159416, 0.        ]])"
            ]
          },
          "metadata": {},
          "execution_count": 26
        }
      ]
    },
    {
      "cell_type": "markdown",
      "source": [
        "### `Q-8:` Plot the below equation.\n",
        "\n",
        "$$\\large y = \\sqrt{36 - (x - 4)^2} + 2$$\n",
        "\n",
        "The range of x should be between -2 to 10. $x ∈ [-2, 10]$\n",
        "\n"
      ],
      "metadata": {
        "id": "xujS-pu4jciH"
      }
    },
    {
      "cell_type": "code",
      "source": [
        "# code here\n",
        "import matplotlib.pyplot as plt\n",
        "x = np.arange(-2,10)\n",
        "y = np.sqrt(36 - ((x - 4)**2) + 2)\n",
        "plt.plot(x, y)"
      ],
      "metadata": {
        "id": "7CagwKP_jhIQ",
        "colab": {
          "base_uri": "https://localhost:8080/",
          "height": 447
        },
        "outputId": "f2107f34-36d8-4d10-9f4a-f886d3b87f6e"
      },
      "execution_count": 27,
      "outputs": [
        {
          "output_type": "execute_result",
          "data": {
            "text/plain": [
              "[<matplotlib.lines.Line2D at 0x7bebc5598550>]"
            ]
          },
          "metadata": {},
          "execution_count": 27
        },
        {
          "output_type": "display_data",
          "data": {
            "text/plain": [
              "<Figure size 640x480 with 1 Axes>"
            ],
            "image/png": "[encoded data removed]"
          },
          "metadata": {}
        }
      ]
    },
    {
      "cell_type": "markdown",
      "source": [
        "### `Q-9:` Write a program implement Boradcasting Rule to check if two array can be added or not.\n",
        "Given tuples of shapes.\n",
        "```\n",
        "shape of a- (3,2,2)\n",
        "shape of b- (2,2)\n",
        "\n",
        "check_broadcast(a, b) -> return Boolean (True if can broadcasted, False other wise.)\n",
        "```"
      ],
      "metadata": {
        "id": "Jf14pxCfjiX1"
      }
    },
    {
      "cell_type": "code",
      "source": [
        "# code here\n",
        "def check_broadcast(a, b):\n",
        "  #figure out the smaller subarray  - whichever has the lower dimension that should be broadcasted\n",
        "  if len(a) > len(b):\n",
        "    diff = len(a) - len(b)\n",
        "    for i in range(diff):\n",
        "      #b = np.expand_dims(b, axis = 0)\n",
        "      b = (1,) + b\n",
        "  else:\n",
        "    diff = len(b) - len(a)\n",
        "    for i in range(diff):\n",
        "      #a = np.expand_dims(a, axis = 0)\n",
        "      a = (1,) + a\n",
        "\n"
      ],
      "metadata": {
        "id": "qSKGG0Yajlc8"
      },
      "execution_count": null,
      "outputs": []
    },
    {
      "cell_type": "code",
      "source": [
        "a = (2, 2)\n",
        "for i in range(2):\n",
        "  a =   (1,) + a\n",
        "a"
      ],
      "metadata": {
        "colab": {
          "base_uri": "https://localhost:8080/"
        },
        "id": "wULK0RVshzDa",
        "outputId": "42aa92dc-5e99-4666-d1ec-9f8c8666d13c"
      },
      "execution_count": 35,
      "outputs": [
        {
          "output_type": "execute_result",
          "data": {
            "text/plain": [
              "(1, 1, 2, 2)"
            ]
          },
          "metadata": {},
          "execution_count": 35
        }
      ]
    },
    {
      "cell_type": "code",
      "source": [
        "def check_broadcast(a, b):\n",
        "  rev_a = a[::-1]\n",
        "  rev_b = b[::-1]\n",
        "  for i in range(max(len(rev_a), len(rev_b))):\n",
        "    dim1 = rev_a[i] if i < len(rev_a) else 1\n",
        "    dim2 = rev_b[i] if i < len(rev_b) else 1\n",
        "    if dim1 != dim2 and dim1 != 1 and dim2 != 1:\n",
        "      return False\n",
        "  return True\n",
        "\n"
      ],
      "metadata": {
        "id": "pZRx4uTCh3SH"
      },
      "execution_count": 36,
      "outputs": []
    },
    {
      "cell_type": "code",
      "source": [
        "check_broadcast((3,2,5), (2,2))"
      ],
      "metadata": {
        "colab": {
          "base_uri": "https://localhost:8080/"
        },
        "id": "r5a8tT-YiClS",
        "outputId": "eb13346e-8a35-446f-95e4-bac1d74437e0"
      },
      "execution_count": 38,
      "outputs": [
        {
          "output_type": "execute_result",
          "data": {
            "text/plain": [
              "False"
            ]
          },
          "metadata": {},
          "execution_count": 38
        }
      ]
    },
    {
      "cell_type": "code",
      "source": [],
      "metadata": {
        "id": "HHQHsm6eiRFH"
      },
      "execution_count": null,
      "outputs": []
    }
  ]
}