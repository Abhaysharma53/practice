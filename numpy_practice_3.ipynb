{
  "nbformat": 4,
  "nbformat_minor": 0,
  "metadata": {
    "colab": {
      "provenance": []
    },
    "kernelspec": {
      "name": "python3",
      "display_name": "Python 3"
    },
    "language_info": {
      "name": "python"
    }
  },
  "cells": [
    {
      "cell_type": "code",
      "source": [
        "import numpy as np"
      ],
      "metadata": {
        "id": "kUKAjZ9FzDyx"
      },
      "execution_count": 2,
      "outputs": []
    },
    {
      "cell_type": "markdown",
      "source": [
        "###`Q-1:` Create a random 3x4 matrix with value between 0-100. And perform below tasks\n",
        "\n",
        "    i. Sort this matrix. np.sort()\n",
        "    ii. Sort this matrix based on values in 2nd column.\n",
        "    iii. Sort this matrix based on max value in each row.\n",
        "    iv. Sort based on elements value.\n"
      ],
      "metadata": {
        "id": "J88qfqQEk_sT"
      }
    },
    {
      "cell_type": "markdown",
      "source": [
        "See examples:\n",
        "```\n",
        "arr =\n",
        "    [[92 90 74]\n",
        "    [ 6 63 93]\n",
        "    [15 93 96]\n",
        "    [70 60 48]]\n",
        "```\n",
        "```\n",
        "i. np.sort\n",
        "[[74 90 92]\n",
        " [ 6 63 93]\n",
        " [15 93 96]\n",
        " [48 60 70]]\n",
        "\n",
        "ii. based on 2nd column\n",
        "[[70 60 48]\n",
        " [ 6 63 93]\n",
        " [92 90 74]\n",
        " [15 93 96]]\n",
        "\n",
        "iii. based on row max- ascending\n",
        "[[15 93 96]\n",
        " [ 6 63 93]\n",
        " [92 90 74]\n",
        " [70 60 48]]\n",
        "\n",
        "iv. based on elements value\n",
        "[[ 6 15 48]\n",
        " [60 63 70]\n",
        " [74 90 92]\n",
        " [93 93 96]]\n",
        "\n",
        "```"
      ],
      "metadata": {
        "id": "xpOwOdhqlE9R"
      }
    },
    {
      "cell_type": "code",
      "source": [
        "# code here\n",
        "arr = np.array(\n",
        "    [[92, 90, 74],\n",
        "    [ 6, 63, 93],\n",
        "    [15, 93, 96],\n",
        "    [70, 60, 48]])\n",
        "\n",
        "np.sort(arr)"
      ],
      "metadata": {
        "id": "Auy-guUwlALv",
        "colab": {
          "base_uri": "https://localhost:8080/"
        },
        "outputId": "2205f032-d97f-43e8-e7d9-272d7919ae70"
      },
      "execution_count": 4,
      "outputs": [
        {
          "output_type": "execute_result",
          "data": {
            "text/plain": [
              "array([[74, 90, 92],\n",
              "       [ 6, 63, 93],\n",
              "       [15, 93, 96],\n",
              "       [48, 60, 70]])"
            ]
          },
          "metadata": {},
          "execution_count": 4
        }
      ]
    },
    {
      "cell_type": "code",
      "source": [
        "arr = np.array(\n",
        "    [[92, 90, 74],\n",
        "    [ 6, 63, 93],\n",
        "    [15, 93, 96],\n",
        "    [70, 60, 48]])\n",
        "sorted_index = np.argsort(arr[:,1])\n",
        "arr[sorted_index]\n",
        "#"
      ],
      "metadata": {
        "colab": {
          "base_uri": "https://localhost:8080/"
        },
        "id": "pkSMhL8U0Ciq",
        "outputId": "dc54bbc8-4590-43bb-c19f-c3d859806d50"
      },
      "execution_count": 3,
      "outputs": [
        {
          "output_type": "execute_result",
          "data": {
            "text/plain": [
              "array([[70, 60, 48],\n",
              "       [ 6, 63, 93],\n",
              "       [92, 90, 74],\n",
              "       [15, 93, 96]])"
            ]
          },
          "metadata": {},
          "execution_count": 3
        }
      ]
    },
    {
      "cell_type": "code",
      "source": [
        "#using structured arrays\n",
        "#not working\n",
        "arr = np.array(\n",
        "    [[92, 90, 74],\n",
        "    [ 6, 63, 93],\n",
        "    [15, 93, 96],\n",
        "    [70, 60, 48]], dtype=[('a', 'i4'),('b', 'i4'),('c', 'i4')])\n",
        "np.sort(arr, order='b')"
      ],
      "metadata": {
        "colab": {
          "base_uri": "https://localhost:8080/"
        },
        "id": "ak7Do7GmLy8s",
        "outputId": "388429ab-d38e-4509-8476-62b632c9c98c"
      },
      "execution_count": 4,
      "outputs": [
        {
          "output_type": "execute_result",
          "data": {
            "text/plain": [
              "array([[(74, 74, 74), (90, 90, 90), (92, 92, 92)],\n",
              "       [( 6,  6,  6), (63, 63, 63), (93, 93, 93)],\n",
              "       [(15, 15, 15), (93, 93, 93), (96, 96, 96)],\n",
              "       [(48, 48, 48), (60, 60, 60), (70, 70, 70)]],\n",
              "      dtype=[('a', '<i4'), ('b', '<i4'), ('c', '<i4')])"
            ]
          },
          "metadata": {},
          "execution_count": 4
        }
      ]
    },
    {
      "cell_type": "code",
      "source": [
        "#based on row max- ascending\n",
        "arr = np.array(\n",
        "    [[92, 90, 74],\n",
        "    [ 6, 63, 93],\n",
        "    [15, 93, 96],\n",
        "    [70, 60, 48]])\n",
        "row_max = np.max(arr, axis = 1)\n",
        "max_position = np.argsort(row_max)\n",
        "#max_position\n",
        "arr[max_position]"
      ],
      "metadata": {
        "colab": {
          "base_uri": "https://localhost:8080/"
        },
        "id": "2xZJhec8NoLJ",
        "outputId": "8ed423c1-42fa-4912-f755-6e202884b0a1"
      },
      "execution_count": 8,
      "outputs": [
        {
          "output_type": "execute_result",
          "data": {
            "text/plain": [
              "array([[70, 60, 48],\n",
              "       [92, 90, 74],\n",
              "       [ 6, 63, 93],\n",
              "       [15, 93, 96]])"
            ]
          },
          "metadata": {},
          "execution_count": 8
        }
      ]
    },
    {
      "cell_type": "code",
      "source": [
        "#based on element value\n",
        "arr = np.array(\n",
        "    [[92, 90, 74],\n",
        "    [ 6, 63, 93],\n",
        "    [15, 93, 96],\n",
        "    [70, 60, 48]])\n",
        "np.ravel(arr).sort()\n",
        "arr"
      ],
      "metadata": {
        "colab": {
          "base_uri": "https://localhost:8080/"
        },
        "id": "PorJ4IFgSGmV",
        "outputId": "b080c246-2cf7-489f-eee1-dc79558573f1"
      },
      "execution_count": 18,
      "outputs": [
        {
          "output_type": "execute_result",
          "data": {
            "text/plain": [
              "array([[ 6, 15, 48],\n",
              "       [60, 63, 70],\n",
              "       [74, 90, 92],\n",
              "       [93, 93, 96]])"
            ]
          },
          "metadata": {},
          "execution_count": 18
        }
      ]
    },
    {
      "cell_type": "markdown",
      "source": [
        "###`Q-2:` There is an array of marks of 5 students in 4 subjects. Further you are asked to perform below task.\n",
        "    i. Add marks every student of an extra subject in the same array.\n",
        "    ii. Add two new students marks in respective 5 subjects.(one subject added in above task)\n",
        "    iii. Add extra column with sum of all subjects(5-subjects) marks\n",
        "    iv. Sort the array(non-ascending order) on total marks column--one added in above task. Show top 2 rows.\n",
        "\n",
        "Note: Change dimension of arrays during concatenation or appending if required."
      ],
      "metadata": {
        "id": "Jx_I3gx9lBay"
      }
    },
    {
      "cell_type": "markdown",
      "source": [
        "Given Array-\n",
        "```\n",
        "marks = [[13, 10,  9, 33],\n",
        "       [63, 46, 90, 42],\n",
        "       [39, 76, 13, 29],\n",
        "       [82,  9, 29, 78],\n",
        "       [67, 61, 59, 36]]\n",
        "\n",
        "extra_subject = [41, 87, 72, 36, 92]\n",
        "#Two extra students record-\n",
        "rec1 = [77, 83, 98, 95, 89]\n",
        "rec2 = [92, 71, 52, 61, 53]\n",
        "```"
      ],
      "metadata": {
        "id": "lXF-CE6ylNIw"
      }
    },
    {
      "cell_type": "code",
      "source": [
        "# code here\n",
        "marks = np.array([[13, 10,  9, 33],\n",
        "       [63, 46, 90, 42],\n",
        "       [39, 76, 13, 29],\n",
        "       [82,  9, 29, 78],\n",
        "       [67, 61, 59, 36]])\n",
        "\n",
        "extra_subject = np.array([41, 87, 72, 36, 92])\n",
        "\n",
        "#np.concatenate((marks, extra_subject.reshape(-1,1)), axis = 1)\n",
        "new_marks = np.hstack((marks, extra_subject.reshape(-1, 1)))\n",
        "rec1 = [77, 83, 98, 95, 89]\n",
        "rec2 = [92, 71, 52, 61, 53]\n",
        "new_marks = np.vstack((new_marks, rec1, rec2))\n",
        "sum_marks = np.sum(new_marks, axis =1)\n",
        "#np.concatenate(())\n",
        "#np.append(new_marks , values= np.sum(new_marks, axis = 1), axis = 0 )\n",
        "sum_marks\n",
        "new_report =  np.hstack((new_marks, sum_marks.reshape(-1,1)))"
      ],
      "metadata": {
        "id": "7YKsWO2olMkq"
      },
      "execution_count": 48,
      "outputs": []
    },
    {
      "cell_type": "code",
      "source": [
        "#iv. Sort the array(non-ascending order) on total marks column\n",
        "sorted_index = np.argsort(-(new_report[:, -1]))\n",
        "final_report = new_report[sorted_index]"
      ],
      "metadata": {
        "id": "5S-h886PyKJr"
      },
      "execution_count": 52,
      "outputs": []
    },
    {
      "cell_type": "code",
      "source": [
        "final_report[sorted_index][0:2]"
      ],
      "metadata": {
        "colab": {
          "base_uri": "https://localhost:8080/"
        },
        "id": "7XfQqjTky2U6",
        "outputId": "3ba6bcd1-c7ec-426d-a0c6-bcc0cf291fd4"
      },
      "execution_count": 53,
      "outputs": [
        {
          "output_type": "execute_result",
          "data": {
            "text/plain": [
              "array([[ 77,  83,  98,  95,  89, 442],\n",
              "       [ 92,  71,  52,  61,  53, 329]])"
            ]
          },
          "metadata": {},
          "execution_count": 53
        }
      ]
    },
    {
      "cell_type": "markdown",
      "source": [
        "###`Q-3:` Find unique arrays from a 2D array column wise and row wise.\n",
        "```\n",
        "arr = np.array([[1,2,3,3,1,1],\n",
        "                [0,9,1,2,8,8],\n",
        "                [1,2,3,8,8,8],\n",
        "                [1,2,3,3,1,1]])\n",
        "```\n",
        "Expected Result-\n",
        "```\n",
        "Row Wise\n",
        "[[0 9 1 2 8 8]\n",
        " [1 2 3 3 1 1]\n",
        " [1 2 3 8 8 8]]\n",
        "\n",
        "Col Wise\n",
        "[[1 1 2 3 3]\n",
        " [0 8 9 1 2]\n",
        " [1 8 2 3 8]\n",
        " [1 1 2 3 3]]\n",
        "```"
      ],
      "metadata": {
        "id": "VmOyK_8klRqR"
      }
    },
    {
      "cell_type": "code",
      "source": [
        "# code here\n",
        "arr = np.array([[1,2,3,3,1,1],\n",
        "                [0,9,1,2,8,8],\n",
        "                [1,2,3,8,8,8],\n",
        "                [1,2,3,3,1,1]])\n",
        "np.unique(arr, axis = 0) #row wise"
      ],
      "metadata": {
        "id": "LJl10VQrlU5q",
        "colab": {
          "base_uri": "https://localhost:8080/"
        },
        "outputId": "834a96c1-a77b-4ee1-f02a-43a91deccb19"
      },
      "execution_count": 56,
      "outputs": [
        {
          "output_type": "execute_result",
          "data": {
            "text/plain": [
              "array([[0, 9, 1, 2, 8, 8],\n",
              "       [1, 2, 3, 3, 1, 1],\n",
              "       [1, 2, 3, 8, 8, 8]])"
            ]
          },
          "metadata": {},
          "execution_count": 56
        }
      ]
    },
    {
      "cell_type": "code",
      "source": [
        "np.unique(arr, axis = 1)"
      ],
      "metadata": {
        "colab": {
          "base_uri": "https://localhost:8080/"
        },
        "id": "jfsOnTDBz58V",
        "outputId": "2079e8a2-6441-43fe-8220-463e3f767ff1"
      },
      "execution_count": 57,
      "outputs": [
        {
          "output_type": "execute_result",
          "data": {
            "text/plain": [
              "array([[1, 1, 2, 3, 3],\n",
              "       [0, 8, 9, 1, 2],\n",
              "       [1, 8, 2, 3, 8],\n",
              "       [1, 1, 2, 3, 3]])"
            ]
          },
          "metadata": {},
          "execution_count": 57
        }
      ]
    },
    {
      "cell_type": "markdown",
      "source": [
        "###`Q-4:` Flip given 2-D array along both axes at the same time."
      ],
      "metadata": {
        "id": "RaXwVkywlWY2"
      }
    },
    {
      "cell_type": "code",
      "source": [
        "# code here\n",
        "marks = np.array([[13, 10,  9, 33],\n",
        "       [63, 46, 90, 42],\n",
        "       [39, 76, 13, 29],\n",
        "       [82,  9, 29, 78],\n",
        "       [67, 61, 59, 36]])\n",
        "np.flip(marks)"
      ],
      "metadata": {
        "id": "mN7-4G8Kleeq",
        "colab": {
          "base_uri": "https://localhost:8080/"
        },
        "outputId": "5f55bdb8-75ad-402c-96e7-16b1b9e4b4a7"
      },
      "execution_count": 59,
      "outputs": [
        {
          "output_type": "execute_result",
          "data": {
            "text/plain": [
              "array([[36, 59, 61, 67],\n",
              "       [78, 29,  9, 82],\n",
              "       [29, 13, 76, 39],\n",
              "       [42, 90, 46, 63],\n",
              "       [33,  9, 10, 13]])"
            ]
          },
          "metadata": {},
          "execution_count": 59
        }
      ]
    },
    {
      "cell_type": "code",
      "source": [],
      "metadata": {
        "id": "Qzznos7Y6g76"
      },
      "execution_count": null,
      "outputs": []
    },
    {
      "cell_type": "markdown",
      "source": [
        "### `Q-5:` Get row numbers of NumPy array having element larger than X.\n",
        "```\n",
        "arr = [[1,2,3,4,5],\n",
        "      [10,-3,30,4,5],\n",
        "      [3,2,5,-4,5],\n",
        "      [9,7,3,6,5]]\n",
        "\n",
        "X = 6\n",
        "```"
      ],
      "metadata": {
        "id": "X0S7BUNTlfoq"
      }
    },
    {
      "cell_type": "code",
      "source": [
        "arr = np.array([[1,2,3,4,5],\n",
        "      [10,-3,30,4,5],\n",
        "      [3,2,5,-4,5],\n",
        "      [9,7,3,6,5]])\n",
        "\n",
        "X = 6"
      ],
      "metadata": {
        "id": "N-mumuIn6jpr"
      },
      "execution_count": 87,
      "outputs": []
    },
    {
      "cell_type": "code",
      "source": [
        "# code here\n",
        "np.where(np.any(arr > X, axis = 1))[0]"
      ],
      "metadata": {
        "id": "bi8jRmWhlkBU",
        "colab": {
          "base_uri": "https://localhost:8080/"
        },
        "outputId": "50de6c00-d2b1-4014-fbff-a4e78d9ddf1a"
      },
      "execution_count": 92,
      "outputs": [
        {
          "output_type": "execute_result",
          "data": {
            "text/plain": [
              "array([1, 3])"
            ]
          },
          "metadata": {},
          "execution_count": 92
        }
      ]
    },
    {
      "cell_type": "markdown",
      "source": [
        "### `Q-6:` How to convert an array of arrays into a flat 1d array?\n"
      ],
      "metadata": {
        "id": "DSCQMo4mlnDG"
      }
    },
    {
      "cell_type": "code",
      "source": [
        "# These arrays are given.\n",
        "arr1 = np.arange(3)\n",
        "arr2 = np.arange(4,7)\n",
        "arr3 = np.arange(7,10)"
      ],
      "metadata": {
        "id": "QZhSkUT2lsJW"
      },
      "execution_count": 64,
      "outputs": []
    },
    {
      "cell_type": "code",
      "source": [
        "# code here\n",
        "a = np.vstack((arr1, arr2, arr3))\n",
        "a.ravel()"
      ],
      "metadata": {
        "id": "f42OXNrFls0I",
        "colab": {
          "base_uri": "https://localhost:8080/"
        },
        "outputId": "9bd0a2e8-80c2-4d42-e579-880509e1fbca"
      },
      "execution_count": 67,
      "outputs": [
        {
          "output_type": "execute_result",
          "data": {
            "text/plain": [
              "array([0, 1, 2, 4, 5, 6, 7, 8, 9])"
            ]
          },
          "metadata": {},
          "execution_count": 67
        }
      ]
    },
    {
      "cell_type": "markdown",
      "source": [
        "### `Q-7:` You are given a array. You have to find the minimum and maximum array element and remove that from the array.\n",
        "\n",
        "```python\n",
        "import numpy as np\n",
        "\n",
        "np.random.seed(400)\n",
        "arr = np.random.randint(100, 1000, 200).reshape((1, 200))\n",
        "```"
      ],
      "metadata": {
        "id": "A1J4oOVCluqO"
      }
    },
    {
      "cell_type": "code",
      "source": [
        "# code here\n",
        "np.random.seed(400)\n",
        "arr = np.random.randint(100, 1000, 200).reshape((1, 200))\n",
        "arr\n",
        "np.delete(arr, np.argmin(arr))\n",
        "np.delete(arr, np.argmax(arr))"
      ],
      "metadata": {
        "id": "c6kmgtUJlybZ",
        "colab": {
          "base_uri": "https://localhost:8080/"
        },
        "outputId": "04506541-6403-41de-a4a6-f1e12d92db8b"
      },
      "execution_count": 71,
      "outputs": [
        {
          "output_type": "execute_result",
          "data": {
            "text/plain": [
              "array([448, 563, 418, 240, 507, 362, 345, 236, 719, 291, 298, 639, 458,\n",
              "       387, 262, 613, 267, 882, 181, 425, 790, 635, 889, 818, 872, 967,\n",
              "       277, 470, 336, 920, 917, 295, 557, 830, 506, 385, 353, 975, 592,\n",
              "       997, 137, 340, 222, 215, 472, 459, 617, 649, 935, 956, 914, 932,\n",
              "       645, 952, 921, 490, 527, 972, 278, 307, 840, 958, 246, 449, 251,\n",
              "       957, 103, 627, 920, 824, 356, 825, 173, 323, 372, 960, 710, 464,\n",
              "       244, 782, 763, 635, 436, 774, 171, 469, 178, 458, 624, 211, 771,\n",
              "       270, 308, 231, 952, 514, 699, 702, 433, 900, 373, 318, 265, 503,\n",
              "       320, 230, 324, 922, 967, 620, 743, 527, 117, 566, 804, 123, 946,\n",
              "       587, 227, 853, 757, 944, 328, 855, 930, 325, 729, 426, 514, 296,\n",
              "       879, 575, 936, 705, 209, 191, 743, 510, 513, 628, 559, 658, 528,\n",
              "       395, 525, 922, 136, 496, 225, 895, 975, 263, 908, 420, 711, 800,\n",
              "       976, 786, 235, 930, 859, 618, 226, 695, 460, 218, 483, 490, 803,\n",
              "       621, 453, 193, 607, 677, 637, 728, 724, 534, 748, 291, 194, 761,\n",
              "       875, 687, 569, 228, 482, 781, 554, 654, 739, 885, 197, 266, 228,\n",
              "       892, 207, 883, 588])"
            ]
          },
          "metadata": {},
          "execution_count": 71
        }
      ]
    },
    {
      "cell_type": "markdown",
      "source": [
        "### `Q-8:` You are given an arrays. You have to limit this array's elements between 100 to 200. $arr ∈ [100, 700]$. So replace those values accordingly with the minimum and maximum value. Then sort the array and perform the cumulative sum of that array."
      ],
      "metadata": {
        "id": "0dHN1sdnl0Jy"
      }
    },
    {
      "cell_type": "code",
      "source": [
        "# code here\n",
        "arr = np.random.randint(100, 700, 200).reshape((1, 200))\n",
        "np.clip(arr, a_max= 200, a_min = 100)\n",
        "np.sort(arr)\n",
        "\n",
        "print(arr)\n",
        "print(np.cumsum(arr))"
      ],
      "metadata": {
        "id": "a3YF_E-Hlza7",
        "colab": {
          "base_uri": "https://localhost:8080/"
        },
        "outputId": "f621e8b8-a9dc-4f23-c9aa-f988cc63b10f"
      },
      "execution_count": 75,
      "outputs": [
        {
          "output_type": "stream",
          "name": "stdout",
          "text": [
            "[[181 134 134 580 698 679 369 367 215 579 210 297 694 129 160 287 682 353\n",
            "  442 680 583 522 160 261 147 407 444 117 226 205 439 237 529 512 676 341\n",
            "  187 645 472 204 626 176 382 230 563 376 671 649 672 361 513 331 612 143\n",
            "  254 526 428 574 656 650 416 402 246 341 691 275 108 457 520 325 321 171\n",
            "  198 371 637 630 549 101 534 593 588 284 338 572 220 179 323 242 105 340\n",
            "  198 374 147 642 660 287 545 164 565 356 510 130 110 198 450 330 322 438\n",
            "  109 114 369 295 694 158 640 447 374 575 570 637 430 340 131 648 226 104\n",
            "  647 159 483 236 420 676 449 171 450 311 328 544 217 557 186 544 247 653\n",
            "  345 670 146 377 560 277 167 596 280 300 111 571 429 248 486 183 663 533\n",
            "  433 545 361 612 359 421 685 127 464 618 489 481 421 688 502 687 475 425\n",
            "  553 105 447 424 454 234 337 451 216 159 201 656 393 533 539 130 441 271\n",
            "  656 452]]\n",
            "[  181   315   449  1029  1727  2406  2775  3142  3357  3936  4146  4443\n",
            "  5137  5266  5426  5713  6395  6748  7190  7870  8453  8975  9135  9396\n",
            "  9543  9950 10394 10511 10737 10942 11381 11618 12147 12659 13335 13676\n",
            " 13863 14508 14980 15184 15810 15986 16368 16598 17161 17537 18208 18857\n",
            " 19529 19890 20403 20734 21346 21489 21743 22269 22697 23271 23927 24577\n",
            " 24993 25395 25641 25982 26673 26948 27056 27513 28033 28358 28679 28850\n",
            " 29048 29419 30056 30686 31235 31336 31870 32463 33051 33335 33673 34245\n",
            " 34465 34644 34967 35209 35314 35654 35852 36226 36373 37015 37675 37962\n",
            " 38507 38671 39236 39592 40102 40232 40342 40540 40990 41320 41642 42080\n",
            " 42189 42303 42672 42967 43661 43819 44459 44906 45280 45855 46425 47062\n",
            " 47492 47832 47963 48611 48837 48941 49588 49747 50230 50466 50886 51562\n",
            " 52011 52182 52632 52943 53271 53815 54032 54589 54775 55319 55566 56219\n",
            " 56564 57234 57380 57757 58317 58594 58761 59357 59637 59937 60048 60619\n",
            " 61048 61296 61782 61965 62628 63161 63594 64139 64500 65112 65471 65892\n",
            " 66577 66704 67168 67786 68275 68756 69177 69865 70367 71054 71529 71954\n",
            " 72507 72612 73059 73483 73937 74171 74508 74959 75175 75334 75535 76191\n",
            " 76584 77117 77656 77786 78227 78498 79154 79606]\n"
          ]
        }
      ]
    },
    {
      "cell_type": "markdown",
      "source": [
        "### `Q-9:` You are given a array ($arr ∈ [0, 1]$). First you have round off the elements upto 3 decimal places and compare that\n",
        "- 0th percentile == minimum value of the array\n",
        "- 100th percentile == maximum value of the array\n",
        "- also find the difference betwen 51th percenile and 50th percentile values"
      ],
      "metadata": {
        "id": "cXj90Susl4-I"
      }
    },
    {
      "cell_type": "code",
      "source": [
        "# code here\n",
        "ar = np.random.random(100)\n",
        "ar = np.round(ar, 3)\n",
        "\n",
        "if np.percentile(ar, 0) == np.min(ar):\n",
        "  print(\"0 percentile and min is equal\")\n",
        "\n",
        "if np.percentile(ar, 100) == np.max(ar):\n",
        "  print(\"100 percentile and max is equal\")\n",
        "\n",
        "np.percentile(ar, 51).item() - np.percentile(ar, 50).item()"
      ],
      "metadata": {
        "id": "SgBEHodgl7Lo",
        "colab": {
          "base_uri": "https://localhost:8080/"
        },
        "outputId": "0fa42953-4724-4dbe-bd96-1995847d4166"
      },
      "execution_count": 83,
      "outputs": [
        {
          "output_type": "stream",
          "name": "stdout",
          "text": [
            "0 percentile and min is equal\n",
            "100 percentile and max is equal\n"
          ]
        },
        {
          "output_type": "execute_result",
          "data": {
            "text/plain": [
              "0.0039300000000001"
            ]
          },
          "metadata": {},
          "execution_count": 83
        }
      ]
    },
    {
      "cell_type": "code",
      "source": [
        "#2nd most frequent element of array\n",
        "arr = np.array([1, 2, 3, 1, 4, 2, 1, 4, 4, 4])\n",
        "item, count= np.unique(arr, return_counts= True)\n",
        "#item, count\n",
        "\n",
        "\n",
        "sorted_idx = np.argsort(-count)\n",
        "second_idx = sorted_idx[1]\n",
        "item[second_idx], count[second_idx]\n",
        "print(item,count)\n",
        "print(sorted_idx)"
      ],
      "metadata": {
        "colab": {
          "base_uri": "https://localhost:8080/"
        },
        "id": "Bvi5ofihZzRn",
        "outputId": "a58ec86e-510d-4e3d-cf3d-164f03abb86e"
      },
      "execution_count": 29,
      "outputs": [
        {
          "output_type": "stream",
          "name": "stdout",
          "text": [
            "[1 2 3 4] [3 2 1 4]\n",
            "[3 0 1 2]\n"
          ]
        }
      ]
    },
    {
      "cell_type": "code",
      "source": [],
      "metadata": {
        "id": "5Rfc3qkYaPyw"
      },
      "execution_count": null,
      "outputs": []
    }
  ]
}