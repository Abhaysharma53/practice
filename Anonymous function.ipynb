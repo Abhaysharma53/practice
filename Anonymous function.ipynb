{
 "cells": [
  {
   "cell_type": "markdown",
   "metadata": {},
   "source": [
    "## Lambda Function\n",
    "\"anonymous functions which are generally provided as input to the other functions.\"\n",
    "they enable the functional programming aspect of python . in functional programming , the argument passed are the only deciding factor of the output."
   ]
  },
  {
   "cell_type": "code",
   "execution_count": 1,
   "metadata": {},
   "outputs": [
    {
     "name": "stdout",
     "output_type": "stream",
     "text": [
      "5\n"
     ]
    }
   ],
   "source": [
    "add = lambda a,b : a+b\n",
    "print(add(2,3))"
   ]
  },
  {
   "cell_type": "markdown",
   "metadata": {},
   "source": [
    "## they are very useful with filter , map and reduce\n",
    "these functions can take any other functions as the parameter and can be supplied to the other function as parameter as well."
   ]
  },
  {
   "cell_type": "code",
   "execution_count": 2,
   "metadata": {},
   "outputs": [
    {
     "name": "stdout",
     "output_type": "stream",
     "text": [
      "[2, 4, 8]\n"
     ]
    }
   ],
   "source": [
    "l = [2,3,4,5,7,8,13,17,21]\n",
    "even = list(filter(lambda x : x%2== 0 ,l))\n",
    "print(even)"
   ]
  },
  {
   "cell_type": "code",
   "execution_count": 3,
   "metadata": {},
   "outputs": [
    {
     "name": "stdout",
     "output_type": "stream",
     "text": [
      "[8, 64, 512]\n"
     ]
    }
   ],
   "source": [
    "cube_even = list(map(lambda x:x**3, even))\n",
    "print(cube_even)"
   ]
  },
  {
   "cell_type": "code",
   "execution_count": 7,
   "metadata": {},
   "outputs": [
    {
     "name": "stdout",
     "output_type": "stream",
     "text": [
      "584\n"
     ]
    }
   ],
   "source": [
    "from functools import reduce\n",
    "cube_sum = reduce(lambda x,y: x+y,cube_even)\n",
    "print(cube_sum)"
   ]
  },
  {
   "cell_type": "markdown",
   "metadata": {},
   "source": [
    "## map within filter\n",
    "all those numbers which are greater than 5 in c , print their square."
   ]
  },
  {
   "cell_type": "code",
   "execution_count": 1,
   "metadata": {},
   "outputs": [
    {
     "name": "stdout",
     "output_type": "stream",
     "text": [
      "[36, 64, 121, 289, 441]\n"
     ]
    }
   ],
   "source": [
    "c = [2,3,5,6,8,11,17,21]\n",
    "a = list(map(lambda y : y*y ,filter(lambda x : x>5, c)))\n",
    "print(a)"
   ]
  },
  {
   "cell_type": "markdown",
   "metadata": {},
   "source": [
    "## filter with map\n",
    "all those numbers in c whose square is greater than 10, put them into the list"
   ]
  },
  {
   "cell_type": "code",
   "execution_count": 2,
   "metadata": {},
   "outputs": [
    {
     "name": "stdout",
     "output_type": "stream",
     "text": [
      "[25, 36, 64, 121, 289, 441]\n"
     ]
    }
   ],
   "source": [
    "b = list(filter(lambda y : y>10,map(lambda x: x*x,c)))\n",
    "print(b)"
   ]
  },
  {
   "cell_type": "markdown",
   "metadata": {},
   "source": [
    "## map and filter within reduce\n",
    "all those numbers which are greater than 5 in c , put their square into the list and print its sum"
   ]
  },
  {
   "cell_type": "code",
   "execution_count": 5,
   "metadata": {},
   "outputs": [
    {
     "name": "stdout",
     "output_type": "stream",
     "text": [
      "951\n"
     ]
    }
   ],
   "source": [
    "from functools import reduce\n",
    "d = reduce(lambda a,b : a+b  ,map(lambda y : y*y ,filter(lambda x : x>5, c)))\n",
    "print(d)"
   ]
  }
 ],
 "metadata": {
  "kernelspec": {
   "display_name": "Python 3",
   "language": "python",
   "name": "python3"
  },
  "language_info": {
   "codemirror_mode": {
    "name": "ipython",
    "version": 3
   },
   "file_extension": ".py",
   "mimetype": "text/x-python",
   "name": "python",
   "nbconvert_exporter": "python",
   "pygments_lexer": "ipython3",
   "version": "3.8.5"
  }
 },
 "nbformat": 4,
 "nbformat_minor": 4
}
