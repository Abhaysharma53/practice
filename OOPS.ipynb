{
 "cells": [
  {
   "cell_type": "code",
   "execution_count": 30,
   "metadata": {},
   "outputs": [],
   "source": [
    "class Computer:\n",
    "    def __init__(self, cpu, ram):\n",
    "        self.cpu = cpu\n",
    "        self.ram = ram\n",
    "        \n",
    "        print(\"object Has been Created\")\n",
    "    def config(self):\n",
    "        print(\"Configuration of CPU is {} and configuration of ram is {}\".format(self.cpu, self.ram))\n",
    "    def compare(self, other):\n",
    "        if self.cpu == other.cpu:\n",
    "            print(\"CPU configuration is same\")\n",
    "        else:\n",
    "            print(\"CPU configuration is different\") \n",
    "    def interchange(self, other):\n",
    "        self.cpu = other.cpu\n",
    "\n"
   ]
  },
  {
   "cell_type": "code",
   "execution_count": 31,
   "metadata": {},
   "outputs": [
    {
     "name": "stdout",
     "output_type": "stream",
     "text": [
      "object Has been Created\n",
      "Configuration of CPU is I5 and configuration of ram is 16 GB\n",
      "object Has been Created\n",
      "Configuration of CPU is Ryzen3 and configuration of ram is 8 GB\n",
      "object Has been Created\n",
      "CPU configuration is same\n"
     ]
    }
   ],
   "source": [
    "comp1 = Computer(\"I5\", \"16 GB\")\n",
    "Computer.config(comp1)\n",
    "comp2 = Computer(\"Ryzen3\", \"8 GB\")\n",
    "comp2.config()\n",
    "comp3 = Computer(\"I5\", \"4 GB\")\n",
    "comp1.compare(comp3)\n",
    "comp3.interchange(comp2)"
   ]
  },
  {
   "cell_type": "markdown",
   "metadata": {},
   "source": [
    "## Lets compare these two objects"
   ]
  },
  {
   "cell_type": "code",
   "execution_count": 33,
   "metadata": {},
   "outputs": [
    {
     "name": "stdout",
     "output_type": "stream",
     "text": [
      "Configuration of CPU is Ryzen3 and configuration of ram is 4 GB\n",
      "Configuration of CPU is I5 and configuration of ram is 16 GB\n",
      "CPu configuration is different\n"
     ]
    }
   ],
   "source": [
    "comp3.config()\n",
    "comp1.config()\n",
    "comp1.compare(comp3)"
   ]
  },
  {
   "cell_type": "code",
   "execution_count": 38,
   "metadata": {},
   "outputs": [],
   "source": [
    "class Person:\n",
    "    def __init__(self, name, age):\n",
    "        self.name = name\n",
    "        self.age = age\n",
    "        \n",
    "    def identity(self):\n",
    "        print(\"that person's name is\", self.name, \"and the age is\", self.age)\n",
    "        \n",
    "    def update(self):\n",
    "        self.age = self.age + 5"
   ]
  },
  {
   "cell_type": "code",
   "execution_count": 41,
   "metadata": {},
   "outputs": [
    {
     "name": "stdout",
     "output_type": "stream",
     "text": [
      "that person's name is Abhay and the age is 21\n",
      "that person's name is Vallari and the age is 20\n",
      "that person's name is Abhay and the age is 26\n"
     ]
    }
   ],
   "source": [
    "person1 = Person(\"Abhay\", 21)\n",
    "person2 = Person(\"Vallari\", 20)\n",
    "person1.identity()\n",
    "person2.identity()\n",
    "person1.update()\n",
    "person1.identity()"
   ]
  },
  {
   "cell_type": "code",
   "execution_count": 13,
   "metadata": {},
   "outputs": [],
   "source": [
    "class Student:\n",
    "    school = \"DUCS\"   #global variable\n",
    "    def __init__(self, name, roll):\n",
    "        self.name = name   #instance variable\n",
    "        self.roll = roll\n",
    "    def show(self):\n",
    "        print(\"the student name is \", self.name, \" and his roll no is\", self.roll)\n",
    "    @classmethod    \n",
    "    def show(cls):\n",
    "        print(\"and their school name is\", Student.school)\n",
    "    @staticmethod\n",
    "    def module():\n",
    "        print(\"they are in their abc module\")"
   ]
  },
  {
   "cell_type": "code",
   "execution_count": 14,
   "metadata": {},
   "outputs": [
    {
     "name": "stdout",
     "output_type": "stream",
     "text": [
      "DUCS\n",
      "and their school name is DUCS\n",
      "and their school name is DUCS\n",
      "they are in their abc module\n"
     ]
    }
   ],
   "source": [
    "st1 = Student(\"Abhay\", \"1629\")\n",
    "st2 = Student(\"Anas\", \"1420\")\n",
    "print(Student.school)\n",
    "st1.show()\n",
    "Student.show()\n",
    "Student.module()"
   ]
  },
  {
   "cell_type": "markdown",
   "metadata": {},
   "source": [
    "## Constructor with inheritance"
   ]
  },
  {
   "cell_type": "code",
   "execution_count": 12,
   "metadata": {},
   "outputs": [],
   "source": [
    "class Person:\n",
    "    def __init__(self, fname, lname):\n",
    "        self.fname = fname\n",
    "        self.lname = lname\n",
    "        \n",
    "    def identity(self):\n",
    "        print(\"the name of the person is {} {}\".format(self.fname, self.lname))\n",
    "class Student(Person):\n",
    "    def __init__(self, fname, lname, roll, course):\n",
    "        super().__init__(fname, lname)\n",
    "        self.roll = roll\n",
    "        self.course = course\n",
    "    def course(self):\n",
    "        print(\"so the course of the student is {}\".format(self.course))\n",
    "class Teacher(Person):\n",
    "    def __init__(self, fname, lname, school, subject):\n",
    "        super().__init__(fname, lname)\n",
    "        self.school = school\n",
    "        self.subject = subject\n",
    "    \n",
    "    def teacher_info(self):\n",
    "        print(\"so the teacher teaches {} in {}\".format(self.subject, self.school))\n",
    "    \n",
    "        "
   ]
  },
  {
   "cell_type": "code",
   "execution_count": 15,
   "metadata": {},
   "outputs": [
    {
     "name": "stdout",
     "output_type": "stream",
     "text": [
      "so the teacher teaches python in South Campus\n",
      "the name of the person is Ajay singh\n"
     ]
    }
   ],
   "source": [
    "P1 = Person(\"Abhay\", \"Sharma\")\n",
    "S1 = Student(\"Abhay\", \"Sharma\",1629, \"OR\")\n",
    "T1 = Teacher(\"Ajay\", \"singh\",\"South Campus\", \"python\")\n",
    "T1.teacher_info()\n",
    "T1.identity()"
   ]
  }
 ],
 "metadata": {
  "kernelspec": {
   "display_name": "Python 3",
   "language": "python",
   "name": "python3"
  },
  "language_info": {
   "codemirror_mode": {
    "name": "ipython",
    "version": 3
   },
   "file_extension": ".py",
   "mimetype": "text/x-python",
   "name": "python",
   "nbconvert_exporter": "python",
   "pygments_lexer": "ipython3",
   "version": "3.8.5"
  }
 },
 "nbformat": 4,
 "nbformat_minor": 4
}
